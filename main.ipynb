{
  "cells": [
    {
      "cell_type": "markdown",
      "source": [
        "# Library Imports"
      ],
      "metadata": {
        "id": "m9tY6-HLDO7L"
      }
    },
    {
      "cell_type": "code",
      "source": [
        "import numpy as np\n",
        "import json"
      ],
      "metadata": {
        "id": "pLEV97TuhMlS"
      },
      "execution_count": null,
      "outputs": []
    },
    {
      "cell_type": "markdown",
      "source": [
        "# Load Data File"
      ],
      "metadata": {
        "id": "4lzZTlOjDTEi"
      }
    },
    {
      "cell_type": "code",
      "source": [
        "with open('twitter.json', 'r') as f:\n",
        "    twitter = json.load(f)\n",
        "\n",
        "for key in twitter[0].keys():\n",
        "    print(key)\n"
      ],
      "metadata": {
        "colab": {
          "base_uri": "https://localhost:8080/"
        },
        "id": "sWjFtvZjdpzc",
        "outputId": "5ca393ac-2bcb-453c-872f-35da2574a2b5"
      },
      "execution_count": null,
      "outputs": [
        {
          "output_type": "stream",
          "name": "stdout",
          "text": [
            "_id\n",
            "Rest ID\n",
            "Is Blue Verified\n",
            "Created At\n",
            "Description\n",
            "Favourites Count\n",
            "Followers Count\n",
            "Friends Count\n",
            "Listed Count\n",
            "Location\n",
            "Name\n",
            "Normal Followers Count\n",
            "Pinned Tweet IDs Str\n",
            "Screen Name\n",
            "Statuses Count\n",
            "Verified\n",
            "Want Retweets\n",
            "Is Identity Verified\n",
            "Following List\n"
          ]
        }
      ]
    },
    {
      "cell_type": "markdown",
      "source": [
        "# Select Features / Data Processing"
      ],
      "metadata": {
        "id": "Id_Zjj_4DWA7"
      }
    },
    {
      "cell_type": "code",
      "source": [
        "# _id.$oid is what is used to connect followings\n",
        "# This list of features can be edited\n",
        "\n",
        "selected_cols = ['_id', 'Is Blue Verified', 'Followers Count', 'Friends Count', 'Listed Count', 'Statuses Count', 'Following List']"
      ],
      "metadata": {
        "id": "tS5AJjAwd5FK"
      },
      "execution_count": null,
      "outputs": []
    },
    {
      "cell_type": "markdown",
      "source": [
        "Based on the above keys, filter down our dataset for later processing."
      ],
      "metadata": {
        "id": "UvO07NJqEGau"
      }
    },
    {
      "cell_type": "code",
      "source": [
        "twitter_filtered = []\n",
        "for profile in twitter:\n",
        "    profile_filtered = {key: profile[key] for key in selected_cols}\n",
        "    twitter_filtered.append(profile_filtered)\n",
        "\n",
        "for key in twitter_filtered[0].keys():\n",
        "    print(key)"
      ],
      "metadata": {
        "colab": {
          "base_uri": "https://localhost:8080/"
        },
        "id": "VM-8AlzkgO6W",
        "outputId": "116972c1-f2e5-4fce-aef1-3aa53c2db3f0"
      },
      "execution_count": null,
      "outputs": [
        {
          "output_type": "stream",
          "name": "stdout",
          "text": [
            "Rest ID\n",
            "Is Blue Verified\n",
            "Followers Count\n",
            "Friends Count\n",
            "Listed Count\n",
            "Statuses Count\n",
            "Following List\n"
          ]
        }
      ]
    },
    {
      "cell_type": "markdown",
      "source": [
        "Helper function for getting a row for a particular ID."
      ],
      "metadata": {
        "id": "rzPr3kSiEJjB"
      }
    },
    {
      "cell_type": "code",
      "source": [
        "def get_elements_by_id(dict_list, target_id):\n",
        "  matching_elements = []\n",
        "  for element in dict_list:\n",
        "    if element[\"Rest ID\"] == target_id:\n",
        "      matching_elements.append(element)\n",
        "  return matching_elements"
      ],
      "metadata": {
        "id": "ilVY8KMxiG_w"
      },
      "execution_count": null,
      "outputs": []
    },
    {
      "cell_type": "code",
      "source": [
        "print(f'There are {len(twitter_filtered)} total nodes.')"
      ],
      "metadata": {
        "colab": {
          "base_uri": "https://localhost:8080/"
        },
        "id": "TKqw4ZSNmB1c",
        "outputId": "d6bb65bc-b7f5-4dc7-927f-f692cb398768"
      },
      "execution_count": null,
      "outputs": [
        {
          "output_type": "stream",
          "name": "stdout",
          "text": [
            "There are 15416 total nodes.\n"
          ]
        }
      ]
    },
    {
      "cell_type": "markdown",
      "source": [
        "For each node, do the following:\n",
        "\n",
        "\n",
        "1.   Find all the node's followers\n",
        "2.   Add up the following count of all the node's followers\n",
        "3.   Store the count in our dataset\n",
        "\n",
        "Eventually, we replace this with some richer data source - i.e. data extracted from a fully-constructed social graph.\n",
        "\n",
        "Note that we also skip if we encounter an ID that isn't in our dataset. Thus, our current iteration is potentially biased. This will be mitigated once we get more data, and can extract richer messages from it.\n",
        "\n",
        "Also note that the `count` variable is printed out and incremented purely to show that the program is still running. This cell can take upwards of 30 minutes to run for our current 15k nodes. This efficiency can be increased once we have a static dataset and establish a nice database, as it's a one-time computation.\n",
        "\n"
      ],
      "metadata": {
        "id": "aIrfOE9HEM54"
      }
    },
    {
      "cell_type": "code",
      "source": [
        "count = 0\n",
        "for profile in twitter_filtered:\n",
        "    followers = [follower.split(':')[1] for follower in profile['Following List']]\n",
        "    nested_followers = 0\n",
        "\n",
        "    for follower in followers:\n",
        "        follower_dicts = get_elements_by_id(twitter_filtered, follower)\n",
        "\n",
        "        # Only if there is a user found in the dataset\n",
        "        if len(follower_dicts) == 1:\n",
        "            nested_followers += follower_dicts[0]['Followers Count']\n",
        "\n",
        "    profile['Nested Followers'] = nested_followers\n",
        "    count += 1\n",
        "\n",
        "    if count % 100 == 0:\n",
        "        print(f'{count=}')"
      ],
      "metadata": {
        "colab": {
          "base_uri": "https://localhost:8080/"
        },
        "id": "pMk8Oydtg8PP",
        "outputId": "74b09007-b118-4891-f02d-a79d844e751a"
      },
      "execution_count": null,
      "outputs": [
        {
          "output_type": "stream",
          "name": "stdout",
          "text": [
            "count=100\n",
            "count=200\n",
            "count=300\n",
            "count=400\n",
            "count=500\n",
            "count=600\n",
            "count=700\n",
            "count=800\n",
            "count=900\n",
            "count=1000\n",
            "count=1100\n",
            "count=1200\n",
            "count=1300\n",
            "count=1400\n",
            "count=1500\n",
            "count=1600\n",
            "count=1700\n",
            "count=1800\n",
            "count=1900\n",
            "count=2000\n",
            "count=2100\n",
            "count=2200\n",
            "count=2300\n",
            "count=2400\n",
            "count=2500\n",
            "count=2600\n",
            "count=2700\n",
            "count=2800\n",
            "count=2900\n",
            "count=3000\n",
            "count=3100\n",
            "count=3200\n",
            "count=3300\n",
            "count=3400\n",
            "count=3500\n",
            "count=3600\n",
            "count=3700\n",
            "count=3800\n",
            "count=3900\n",
            "count=4000\n",
            "count=4100\n",
            "count=4200\n",
            "count=4300\n",
            "count=4400\n",
            "count=4500\n",
            "count=4600\n",
            "count=4700\n",
            "count=4800\n",
            "count=4900\n",
            "count=5000\n",
            "count=5100\n",
            "count=5200\n",
            "count=5300\n",
            "count=5400\n",
            "count=5500\n",
            "count=5600\n",
            "count=5700\n",
            "count=5800\n",
            "count=5900\n",
            "count=6000\n",
            "count=6100\n",
            "count=6200\n",
            "count=6300\n",
            "count=6400\n",
            "count=6500\n",
            "count=6600\n",
            "count=6700\n",
            "count=6800\n",
            "count=6900\n",
            "count=7000\n",
            "count=7100\n",
            "count=7200\n",
            "count=7300\n",
            "count=7400\n",
            "count=7500\n",
            "count=7600\n",
            "count=7700\n",
            "count=7800\n",
            "count=7900\n",
            "count=8000\n",
            "count=8100\n",
            "count=8200\n",
            "count=8300\n",
            "count=8400\n",
            "count=8500\n",
            "count=8600\n",
            "count=8700\n",
            "count=8800\n",
            "count=8900\n",
            "count=9000\n",
            "count=9100\n",
            "count=9200\n",
            "count=9300\n",
            "count=9400\n",
            "count=9500\n",
            "count=9600\n",
            "count=9700\n",
            "count=9800\n",
            "count=9900\n",
            "count=10000\n",
            "count=10100\n",
            "count=10200\n",
            "count=10300\n",
            "count=10400\n",
            "count=10500\n",
            "count=10600\n",
            "count=10700\n",
            "count=10800\n",
            "count=10900\n",
            "count=11000\n",
            "count=11100\n",
            "count=11200\n",
            "count=11300\n",
            "count=11400\n",
            "count=11500\n",
            "count=11600\n",
            "count=11700\n",
            "count=11800\n",
            "count=11900\n",
            "count=12000\n",
            "count=12100\n",
            "count=12200\n",
            "count=12300\n",
            "count=12400\n",
            "count=12500\n",
            "count=12600\n",
            "count=12700\n",
            "count=12800\n",
            "count=12900\n",
            "count=13000\n",
            "count=13100\n",
            "count=13200\n",
            "count=13300\n",
            "count=13400\n",
            "count=13500\n",
            "count=13600\n",
            "count=13700\n",
            "count=13800\n",
            "count=13900\n",
            "count=14000\n",
            "count=14100\n",
            "count=14200\n",
            "count=14300\n",
            "count=14400\n",
            "count=14500\n",
            "count=14600\n",
            "count=14700\n",
            "count=14800\n",
            "count=14900\n",
            "count=15000\n",
            "count=15100\n",
            "count=15200\n",
            "count=15300\n",
            "count=15400\n"
          ]
        }
      ]
    },
    {
      "cell_type": "code",
      "source": [
        "# Verification of data processing\n",
        "print(twitter_filtered[0]['Followers Count'])\n",
        "print(twitter_filtered[0]['Nested Followers'])"
      ],
      "metadata": {
        "colab": {
          "base_uri": "https://localhost:8080/"
        },
        "id": "CvR6Pf18jr_a",
        "outputId": "87a1d11d-d855-48b7-f9e9-fab6c16c5274"
      },
      "execution_count": null,
      "outputs": [
        {
          "output_type": "stream",
          "name": "stdout",
          "text": [
            "5239949\n",
            "7255464\n"
          ]
        }
      ]
    },
    {
      "cell_type": "markdown",
      "source": [
        "Since the \"Following List\" key is not one-dimensional data, SVD will not work on it. Thus, in our modified dataset, we can just delete it since we are done performing calculations on it."
      ],
      "metadata": {
        "id": "oswN54WUE5MR"
      }
    },
    {
      "cell_type": "code",
      "source": [
        "# SVD wants one-D data for each cell\n",
        "for profile in twitter_filtered:\n",
        "    del profile['Following List']"
      ],
      "metadata": {
        "id": "_Kj_1RBlr7Ke"
      },
      "execution_count": null,
      "outputs": []
    },
    {
      "cell_type": "code",
      "source": [
        "# Verify all keys are appropriate\n",
        "for key in twitter_filtered[0].keys():\n",
        "    print(key)"
      ],
      "metadata": {
        "colab": {
          "base_uri": "https://localhost:8080/"
        },
        "id": "Lk9tmWuwr3Du",
        "outputId": "837740ab-cf5c-48df-9144-eeb0ee215bf5"
      },
      "execution_count": null,
      "outputs": [
        {
          "output_type": "stream",
          "name": "stdout",
          "text": [
            "Rest ID\n",
            "Is Blue Verified\n",
            "Followers Count\n",
            "Friends Count\n",
            "Listed Count\n",
            "Statuses Count\n",
            "Nested Followers\n"
          ]
        }
      ]
    },
    {
      "cell_type": "markdown",
      "source": [
        "Convert to a pandas dataframe."
      ],
      "metadata": {
        "id": "ZE9L9Y67FC9s"
      }
    },
    {
      "cell_type": "code",
      "source": [
        "import pandas as pd\n",
        "\n",
        "load_csv = True\n",
        "\n",
        "if load_csv:\n",
        "    twitter_df = pd.read_csv('twitter_df.csv')\n",
        "else:\n",
        "    twitter_df = pd.DataFrame(twitter_filtered)"
      ],
      "metadata": {
        "id": "EJuuIFrRr8mK"
      },
      "execution_count": null,
      "outputs": []
    },
    {
      "cell_type": "markdown",
      "source": [
        "To give the SVD some form of scale, we give people with a ton of followers a score of 1, and people with fewer than 100 followers a score of 0. Of course, this is inaccurate, but we will improve this in the future once we identify \"top voices\" to give a score of 1, and can hand-mark accounts who should be given scores of 0."
      ],
      "metadata": {
        "id": "mY_rXsQgFA5l"
      }
    },
    {
      "cell_type": "code",
      "source": [
        "twitter_df['Score'] = np.where(twitter_df['Followers Count'] < 100, 0, np.where(twitter_df['Followers Count'] > 1000000, 1, None))"
      ],
      "metadata": {
        "id": "9VNaYuw2sWMQ"
      },
      "execution_count": null,
      "outputs": []
    },
    {
      "cell_type": "markdown",
      "source": [
        "Perform a truncated SVD with one component. Replace the \"score\" column with the calculated component."
      ],
      "metadata": {
        "id": "VyHDWNpkFPhz"
      }
    },
    {
      "cell_type": "code",
      "source": [
        "from sklearn.impute import SimpleImputer\n",
        "from sklearn.decomposition import TruncatedSVD\n",
        "\n",
        "# Create a copy of the ID column\n",
        "ids = twitter_df['Rest ID']\n",
        "\n",
        "# Drop the ID column from the dataframe\n",
        "twitter_df_no_ids = twitter_df.drop(columns=['Rest ID'])\n",
        "\n",
        "# Create a SimpleImputer object with strategy='mean'\n",
        "imputer = SimpleImputer(strategy='mean')\n",
        "\n",
        "# Fit the imputer object to the dataframe without IDs\n",
        "imputer.fit(twitter_df_no_ids)\n",
        "\n",
        "# Transform the dataframe using the fitted imputer object\n",
        "twitter_df_imputed = imputer.transform(twitter_df_no_ids)\n",
        "\n",
        "# Create a TruncatedSVD object with n_components=1\n",
        "svd = TruncatedSVD(n_components=1)\n",
        "\n",
        "# Fit the SVD object to the imputed dataframe\n",
        "svd.fit(twitter_df_imputed)\n",
        "\n",
        "# Transform the imputed dataframe using the fitted SVD object\n",
        "twitter_df_transformed = svd.transform(twitter_df_imputed)\n",
        "\n",
        "# Create a new dataframe with the transformed scores\n",
        "twitter_df_transformed_df = pd.DataFrame(twitter_df_transformed, columns=['Transformed_Score'])\n",
        "\n",
        "# Add the ID column back to the dataframe\n",
        "twitter_df_transformed_df['Rest ID'] = ids\n",
        "\n",
        "# Replace the None scores with the transformed scores in the original dataframe\n",
        "twitter_df['Score'] = twitter_df_transformed_df['Transformed_Score']\n"
      ],
      "metadata": {
        "id": "B0SJsB5Zu7sN"
      },
      "execution_count": null,
      "outputs": []
    },
    {
      "cell_type": "code",
      "source": [
        "print(twitter_df)"
      ],
      "metadata": {
        "colab": {
          "base_uri": "https://localhost:8080/"
        },
        "id": "fIrTw3-3vU2t",
        "outputId": "adf58194-e93e-42dc-afae-e1c8e679ed74"
      },
      "execution_count": null,
      "outputs": [
        {
          "output_type": "stream",
          "name": "stdout",
          "text": [
            "                   Rest ID  Is Blue Verified  Followers Count  Friends Count  \\\n",
            "0                 95092020              True          5239949           1616   \n",
            "1                 44196397              True        183260444            596   \n",
            "2      1641378826537295874              True            40831            173   \n",
            "3       713551239645007873              True            43685            221   \n",
            "4                 23022687              True          6326943           5428   \n",
            "...                    ...               ...              ...            ...   \n",
            "15411  1442893938508005378             False            16430              9   \n",
            "15412  1511793131884318720              True             2376           1295   \n",
            "15413            232132831              True             4127            322   \n",
            "15414            212962007              True            10745            718   \n",
            "15415            834607710              True            63337           2178   \n",
            "\n",
            "       Listed Count  Statuses Count  Nested Followers         Score  \n",
            "0             13900           48344           7255464  7.504244e+06  \n",
            "1            149969           44158         163715778  1.725247e+08  \n",
            "2               681             435           3244832  3.242917e+06  \n",
            "3               103            3503                 0  2.148409e+03  \n",
            "4             17177           47740          54419136  5.466434e+07  \n",
            "...             ...             ...               ...           ...  \n",
            "15411           285            1051                 0  8.079279e+02  \n",
            "15412            67            1146           2553437  2.550468e+06  \n",
            "15413            58             352           3038141  3.034672e+06  \n",
            "15414           193            1257            925197  9.246075e+05  \n",
            "15415           594           14591            709361  7.116225e+05  \n",
            "\n",
            "[15416 rows x 8 columns]\n"
          ]
        }
      ]
    },
    {
      "cell_type": "markdown",
      "source": [
        "Store the data in CSV form if desired."
      ],
      "metadata": {
        "id": "Vj7of-1bFVTP"
      }
    },
    {
      "cell_type": "code",
      "source": [
        "twitter_df.to_csv('twitter_df.csv', index=False)"
      ],
      "metadata": {
        "id": "hW0SC2q9wYi2"
      },
      "execution_count": null,
      "outputs": []
    },
    {
      "cell_type": "markdown",
      "source": [
        "Show the IDs with the highest and lowest scores."
      ],
      "metadata": {
        "id": "y8X-gMGUFXpx"
      }
    },
    {
      "cell_type": "code",
      "source": [
        "top_10_ids = twitter_df.sort_values(by=['Score'], ascending=False)['Rest ID'].head(100).tolist()\n",
        "bottom_10_ids = twitter_df.sort_values(by=['Score'], ascending=True)['Rest ID'].head(100).tolist()\n",
        "\n",
        "print(f'10 Rest IDs with highest scores: {top_10_ids}')\n",
        "print(f'10 Rest IDs with lowest scores: {bottom_10_ids}')\n"
      ],
      "metadata": {
        "colab": {
          "base_uri": "https://localhost:8080/"
        },
        "id": "DCK2GV24xGBY",
        "outputId": "92b35e36-5731-4fa5-be5f-262581b7060e"
      },
      "execution_count": null,
      "outputs": [
        {
          "output_type": "stream",
          "name": "stdout",
          "text": [
            "10 Rest IDs with highest scores: [956333277744218113, 17240448, 2190386409, 954510728181903361, 818876014390603776, 3221715698, 3180033032, 1280996358724489216, 15520427, 44196397, 44196397, 44196397, 40661455, 1109029162248036353, 959264982839058433, 829551745, 1749585078471086083, 35383754, 2346396080, 38187809, 166009659, 29547260, 14260608, 12901712, 12901712, 12901712, 61301738, 977687191202693125, 977687191202693125, 3349531, 2314443930, 18687249, 1427467304745410560, 304715166, 1062926939151888385, 939091, 108471631, 1359665613082402819, 990278348914950144, 1138120410233360384, 610183411, 77594892, 1739832116446420992, 38170974, 205622130, 104489372, 2859546873, 21668101, 22110773, 961436288095281152, 1343370552, 2864217936, 31672644, 3256996608, 1212608257983799296, 1382209054999646212, 1574863808098598912, 1510036486426660883, 1140059638575947776, 16809973, 1389913567671975937, 1577293480308654082, 1742406387815337984, 3881408656, 3024509200, 1339603952808067073, 1442995056755953670, 1767213737784598528, 1585089546026614786, 22912238, 475802156, 1689001326091399168, 146358342, 146358342, 1008824772401221632, 1498067778137432068, 96879107, 1325345393471795201, 93957809, 1426600127708340227, 942683894641459200, 1861019372, 21790160, 1649837515233189889, 1173108078, 1409876865435774986, 1222639789, 1322693567765237761, 1322693567765237761, 1594266073888706560, 1453628116249755653, 1074788098779734016, 2155045283, 1188998539197767680, 1711501477582110721, 236288433, 1593968826365857792, 1386209234996633603, 1317378733490229253, 2924777742]\n",
            "10 Rest IDs with lowest scores: [1469132474475167754, 1790995890020274176, 1782422848654446594, 1622524517628235777, 1578527763048402946, 1700274166849482752, 1478817284, 1089668155864166402, 1343265589670895620, 1666178304716554251, 1775998484635602944, 1661566319861350400, 1706743418935033856, 1455996216857317378, 1472580615816032256, 1733693353093677057, 1540814281796632576, 1275390093633691648, 54564493, 1464389021245837319, 1583233533375647745, 1564655401924272128, 1508330216313212930, 1052606195129872384, 1791096494340067329, 851174597185593344, 1266356145368829954, 1501464901058969606, 1586769548870574084, 1561140927246344193, 1498007197753688069, 867841650814361604, 1550146847435501570, 1667893919642796033, 1715750597788647424, 1348808636445835265, 1600043438, 57663061, 1085580168029077509, 1582304269, 1164315772711137280, 1067049867636367362, 1486628562232881152, 900290868292145153, 1364444885865037824, 1597672226408611844, 1754613032259375104, 1554920687369846784, 1106928712187080705, 1674546147203899397, 1675457027475230720, 1451925975386705921, 1492309369974833155, 1731748085364113408, 1164959759423983617, 1492397939742081025, 1779626756485595136, 1768610849269125120, 272361626, 1284231496920895489, 136645063, 803395627, 1706872465702412288, 3442211296, 1400247522799632386, 1211636194515156993, 1540287034274840577, 1224668976170573825, 1633094460828442626, 1777441352516546560, 198065905, 1635813692024717312, 1618308714158559234, 60362244, 1756170880672264192, 1791230392185262080, 297883080, 1773140011267080192, 1764083959334617088, 1664695603987730443, 1347632373366730758, 1772638784259031040, 1346063638562533378, 3399102538, 107612510, 1655594510687293440, 3247634697, 1480559744230305794, 1449377741372117000, 284215522, 1614125096502792193, 2540870395, 828559302, 2640360387, 1574802073127833610, 1680415619529752576, 1746541051282612225, 1779818734330195968, 1413731021397192708, 1790127358571163648]\n"
          ]
        }
      ]
    },
    {
      "cell_type": "markdown",
      "source": [
        "Helper functions to find the names and screen names. This can definitely be made more efficient, as can a lot of the data transformations."
      ],
      "metadata": {
        "id": "E-e4GVsCFd4O"
      }
    },
    {
      "cell_type": "code",
      "source": [
        "def find_screen_name_by_id(rest_id):\n",
        "  for profile in twitter:\n",
        "    if int(profile[\"Rest ID\"]) == rest_id:\n",
        "      return profile[\"Screen Name\"]\n",
        "  return None\n",
        "\n",
        "def find_name_by_id(rest_id):\n",
        "  for profile in twitter:\n",
        "    if int(profile[\"Rest ID\"]) == rest_id:\n",
        "      return profile[\"Name\"]\n",
        "  return None"
      ],
      "metadata": {
        "id": "E2c0Oiwowrlh"
      },
      "execution_count": null,
      "outputs": []
    },
    {
      "cell_type": "code",
      "source": [
        "def find_id_by_screen_name(screen_name):\n",
        "  for profile in twitter:\n",
        "    if profile[\"Screen Name\"] == screen_name:\n",
        "      return int(profile[\"Rest ID\"])\n",
        "  return None"
      ],
      "metadata": {
        "id": "lyb6_vBYrWAh"
      },
      "execution_count": null,
      "outputs": []
    },
    {
      "cell_type": "markdown",
      "source": [
        "Print the top scorers and bottom scorers."
      ],
      "metadata": {
        "id": "NvRk1pAuFf-M"
      }
    },
    {
      "cell_type": "code",
      "source": [
        "print('TOP SCORES')\n",
        "seen = []\n",
        "counter = 0\n",
        "for id in top_10_ids:\n",
        "    name = find_name_by_id(id)\n",
        "    screen_name = find_screen_name_by_id(id)\n",
        "\n",
        "    if name is not None and id not in seen:\n",
        "        print(f\"The name of the user with Rest ID {id} is {name} AKA {screen_name}\")\n",
        "        counter += 1\n",
        "\n",
        "    seen.append(id)\n",
        "\n",
        "    if counter >= 10:\n",
        "        break\n",
        "\n",
        "print('BOTTOM SCORES')\n",
        "seen = []\n",
        "counter = 0\n",
        "for id in bottom_10_ids:\n",
        "    name = find_name_by_id(id)\n",
        "    screen_name = find_screen_name_by_id(id)\n",
        "\n",
        "    if name is not None and id not in seen:\n",
        "        print(f\"The name of the user with Rest ID {id} is {name} AKA {screen_name}\")\n",
        "        counter += 1\n",
        "\n",
        "    seen.append(id)\n",
        "\n",
        "    if counter >= 10:\n",
        "        break"
      ],
      "metadata": {
        "colab": {
          "base_uri": "https://localhost:8080/"
        },
        "id": "yy7RutDOw8os",
        "outputId": "4a4cb462-0971-4971-e0e1-464374ce72bc"
      },
      "execution_count": null,
      "outputs": [
        {
          "output_type": "stream",
          "name": "stdout",
          "text": [
            "TOP SCORES\n",
            "The name of the user with Rest ID 956333277744218113 is Chia Network AKA chia_project\n",
            "The name of the user with Rest ID 17240448 is Lauren Reidy AKA l_reids\n",
            "The name of the user with Rest ID 2190386409 is Friendship Circle AKA FriendshipCir\n",
            "The name of the user with Rest ID 954510728181903361 is Simons Institute for the Theory of Computing AKA SimonsInstitute\n",
            "The name of the user with Rest ID 818876014390603776 is Melania Trump 45 Archived AKA FLOTUS45\n",
            "The name of the user with Rest ID 3221715698 is Madison365 AKA madison_365\n",
            "The name of the user with Rest ID 3180033032 is Feng Zhang AKA zhangf\n",
            "The name of the user with Rest ID 1280996358724489216 is macrofying AKA macrofying\n",
            "The name of the user with Rest ID 15520427 is Sajid Sadi AKA sajid_sadi\n",
            "The name of the user with Rest ID 44196397 is Elon Musk AKA elonmusk\n",
            "BOTTOM SCORES\n",
            "The name of the user with Rest ID 1469132474475167754 is National Coalition for Food & Ag Research AKA NationalCFAR\n",
            "The name of the user with Rest ID 1790995890020274176 is TARA :3 AKA TheBoltee\n",
            "The name of the user with Rest ID 1782422848654446594 is Brew Markets AKA brewmarkets\n",
            "The name of the user with Rest ID 1622524517628235777 is Wood Material Science Group AKA WoodMatSci\n",
            "The name of the user with Rest ID 1578527763048402946 is Matt Rader AKA MattRader24\n",
            "The name of the user with Rest ID 1700274166849482752 is Abolish Human Abortion AKA Immediatists\n",
            "The name of the user with Rest ID 1478817284 is lale alpar AKA baskaisim\n",
            "The name of the user with Rest ID 1089668155864166402 is Tangram AKA trytangram\n",
            "The name of the user with Rest ID 1343265589670895620 is Philip Eck AKA philipeck29\n",
            "The name of the user with Rest ID 1666178304716554251 is bibi AKA pepitosfangirl\n"
          ]
        }
      ]
    },
    {
      "cell_type": "code",
      "source": [
        "def find_score_by_rest_id(rest_id, twitter_df):\n",
        "  for index, row in twitter_df.iterrows():\n",
        "    if row['Rest ID'] == rest_id:\n",
        "      return row['Score']\n",
        "  return None\n",
        "\n",
        "# Example usage\n",
        "rest_id = find_id_by_screen_name('elonmusk')\n",
        "score = find_score_by_rest_id(rest_id, twitter_df)\n",
        "\n",
        "if score is None:\n",
        "  print(f\"No row found with Rest ID {rest_id}\")\n",
        "else:\n",
        "  print(f\"Score for Rest ID {rest_id}: {score}\")\n"
      ],
      "metadata": {
        "colab": {
          "base_uri": "https://localhost:8080/"
        },
        "id": "KkRY8F9TsIob",
        "outputId": "2069ab67-5c05-4982-aa17-6ee585beb1a1"
      },
      "execution_count": null,
      "outputs": [
        {
          "output_type": "stream",
          "name": "stdout",
          "text": [
            "Score for Rest ID 44196397: 172524672.01968035\n"
          ]
        }
      ]
    }
  ],
  "metadata": {
    "colab": {
      "provenance": [],
      "collapsed_sections": [
        "2qM1NEldCX6F"
      ],
      "gpuType": "T4"
    },
    "kernelspec": {
      "display_name": "Python 3",
      "name": "python3"
    },
    "language_info": {
      "name": "python"
    },
    "accelerator": "GPU"
  },
  "nbformat": 4,
  "nbformat_minor": 0
}